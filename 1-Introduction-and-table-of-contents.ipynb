{
 "cells": [
  {
   "cell_type": "markdown",
   "metadata": {},
   "source": [
    "# Workbench"
   ]
  },
  {
   "cell_type": "markdown",
   "metadata": {},
   "source": [
    "This is me playing with Jupyter notebooks (http://jupyter.org/) notebooks and the Trove API (https://api.trove.nla.gov.au).
   ]
  },
  {
   "cell_type": "markdown",
   "metadata": {},
   "source": [
    "----\n",
    "\n",
    "## Contents\n",
    "\n",
    "This list will grow as I add more institutions, datasets, and examples – check back often!\n",
    "\n",
    "* [Using these notebooks](2-Using-these-notebooks.ipynb) – a brief introduction to the wonders of Jupyter notebooks\n",
    "* [Trove](Trove/) – the National Library of Australia's essential, all purpose, research resource\n",
    "* [RecordSearch](RecordSearch/) – getting data out of the National Archives of Australia's online database\n",
    "* CSV Explorer – find, use, and analyse a variety of CSV-formatted datasets from GLAM institutions\n",
    "\n",
    "----"
   ]
  }
}
