{
 "cells": [
  {
   "cell_type": "markdown",
   "metadata": {},
   "source": [
    "# Workbench"
   ]
  },
  {
   "cell_type": "markdown",
   "metadata": {},
   "source": [
    "This is me playing with Jupyter notebooks (http://jupyter.org/) notebooks and the Trove API (https://api.trove.nla.gov.au).
   ]
  },
}
